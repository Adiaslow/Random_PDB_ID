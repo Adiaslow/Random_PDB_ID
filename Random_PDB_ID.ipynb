{
  "nbformat": 4,
  "nbformat_minor": 0,
  "metadata": {
    "colab": {
      "provenance": [],
      "authorship_tag": "ABX9TyPoeSnXpV7MzZz4lOBtS4IB",
      "include_colab_link": true
    },
    "kernelspec": {
      "name": "python3",
      "display_name": "Python 3"
    },
    "language_info": {
      "name": "python"
    }
  },
  "cells": [
    {
      "cell_type": "markdown",
      "metadata": {
        "id": "view-in-github",
        "colab_type": "text"
      },
      "source": [
        "<a href=\"https://colab.research.google.com/github/Adiaslow/Random_PDB_ID/blob/main/Random_PDB_ID.ipynb\" target=\"_parent\"><img src=\"https://colab.research.google.com/assets/colab-badge.svg\" alt=\"Open In Colab\"/></a>"
      ]
    },
    {
      "cell_type": "code",
      "source": [
        "import numpy as np\n",
        "import pandas as pd\n",
        "from random import randint\n",
        "\n",
        "file = open(\"/content/pdb_ids.txt\",\"r\")\n",
        "pdb_ids = list(file.read().split(\",\"))\n",
        "# print(pdb_ids)\n",
        "\n",
        "def get_random_pdb_id():\n",
        "  random_pdb_id = pdb_ids[randint(0, len(pdb_ids))]\n",
        "  print(random_pdb_id)\n",
        "  return random_pdb_id\n",
        "\n",
        "random_pdb_id = get_random_pdb_id()"
      ],
      "metadata": {
        "colab": {
          "base_uri": "https://localhost:8080/"
        },
        "id": "VjXyWaO9v-f9",
        "outputId": "6078c170-6952-4705-ef1a-37ff0133cf34"
      },
      "execution_count": 32,
      "outputs": [
        {
          "output_type": "stream",
          "name": "stdout",
          "text": [
            "8HJA\n"
          ]
        }
      ]
    },
    {
      "cell_type": "code",
      "source": [],
      "metadata": {
        "id": "2QwDOyTmwAdb"
      },
      "execution_count": 28,
      "outputs": []
    }
  ]
}